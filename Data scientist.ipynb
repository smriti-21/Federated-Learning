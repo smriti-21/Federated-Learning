{
 "cells": [
  {
   "cell_type": "markdown",
   "id": "1223a54d",
   "metadata": {},
   "source": [
    "# Part 1: Launching a Duet Server"
   ]
  },
  {
   "cell_type": "code",
   "execution_count": 1,
   "id": "dd020ddd",
   "metadata": {},
   "outputs": [
    {
     "name": "stdout",
     "output_type": "stream",
     "text": [
      "🎤  🎸  ♪♪♪ Joining Duet ♫♫♫  🎻  🎹\n",
      "\n",
      "♫♫♫ >\u001b[93m DISCLAIMER\u001b[0m: \u001b[1mDuet is an experimental feature currently in beta.\n",
      "♫♫♫ > Use at your own risk.\n",
      "\u001b[0m\n",
      "\u001b[1m\n",
      "    > ❤️ \u001b[91mLove\u001b[0m \u001b[92mDuet\u001b[0m? \u001b[93mPlease\u001b[0m \u001b[94mconsider\u001b[0m \u001b[95msupporting\u001b[0m \u001b[91mour\u001b[0m \u001b[93mcommunity!\u001b[0m\n",
      "    > https://github.com/sponsors/OpenMined\u001b[1m\n",
      "\n",
      "♫♫♫ > Punching through firewall to OpenGrid Network Node at:\n",
      "♫♫♫ > http://ec2-18-218-7-180.us-east-2.compute.amazonaws.com:5000\n",
      "♫♫♫ >\n",
      "♫♫♫ > ...waiting for response from OpenGrid Network... \n",
      "♫♫♫ > \u001b[92mDONE!\u001b[0m\n",
      "\n",
      "♫♫♫ > \u001b[92mCONNECTED!\u001b[0m\n"
     ]
    }
   ],
   "source": [
    "import syft as sy\n",
    "duet = sy.join_duet(loopback=True)"
   ]
  },
  {
   "cell_type": "markdown",
   "id": "b47854b3",
   "metadata": {},
   "source": [
    "# Part 2: Search for data"
   ]
  },
  {
   "cell_type": "code",
   "execution_count": 2,
   "id": "70b9a548",
   "metadata": {},
   "outputs": [
    {
     "data": {
      "text/html": [
       "<div>\n",
       "<style scoped>\n",
       "    .dataframe tbody tr th:only-of-type {\n",
       "        vertical-align: middle;\n",
       "    }\n",
       "\n",
       "    .dataframe tbody tr th {\n",
       "        vertical-align: top;\n",
       "    }\n",
       "\n",
       "    .dataframe thead th {\n",
       "        text-align: right;\n",
       "    }\n",
       "</style>\n",
       "<table border=\"1\" class=\"dataframe\">\n",
       "  <thead>\n",
       "    <tr style=\"text-align: right;\">\n",
       "      <th></th>\n",
       "      <th>ID</th>\n",
       "      <th>Tags</th>\n",
       "      <th>Description</th>\n",
       "      <th>object_type</th>\n",
       "    </tr>\n",
       "  </thead>\n",
       "  <tbody>\n",
       "    <tr>\n",
       "      <th>0</th>\n",
       "      <td>&lt;UID: 7f8bebefea6449b190099da8e2435d67&gt;</td>\n",
       "      <td>[iris-data]</td>\n",
       "      <td>This is a dataset for the classification of fl...</td>\n",
       "      <td>&lt;class 'torch.Tensor'&gt;</td>\n",
       "    </tr>\n",
       "    <tr>\n",
       "      <th>1</th>\n",
       "      <td>&lt;UID: 38f7a0c80e894ce3a6ff2260b62db22f&gt;</td>\n",
       "      <td>[iris-target]</td>\n",
       "      <td>Labels for flowers: Iris-setosa, Iris-versicol...</td>\n",
       "      <td>&lt;class 'torch.Tensor'&gt;</td>\n",
       "    </tr>\n",
       "  </tbody>\n",
       "</table>\n",
       "</div>"
      ],
      "text/plain": [
       "                                        ID           Tags  \\\n",
       "0  <UID: 7f8bebefea6449b190099da8e2435d67>    [iris-data]   \n",
       "1  <UID: 38f7a0c80e894ce3a6ff2260b62db22f>  [iris-target]   \n",
       "\n",
       "                                         Description             object_type  \n",
       "0  This is a dataset for the classification of fl...  <class 'torch.Tensor'>  \n",
       "1  Labels for flowers: Iris-setosa, Iris-versicol...  <class 'torch.Tensor'>  "
      ]
     },
     "execution_count": 2,
     "metadata": {},
     "output_type": "execute_result"
    }
   ],
   "source": [
    "duet.store.pandas"
   ]
  },
  {
   "cell_type": "code",
   "execution_count": 4,
   "id": "32d253d7",
   "metadata": {},
   "outputs": [],
   "source": [
    "data_ptr = duet.store[0]\n",
    "target_ptr = duet.store[1]"
   ]
  },
  {
   "cell_type": "code",
   "execution_count": 5,
   "id": "f1d20304",
   "metadata": {},
   "outputs": [
    {
     "name": "stdout",
     "output_type": "stream",
     "text": [
      "<syft.proxy.torch.TensorPointer object at 0x0000025151BEF880>\n",
      "<syft.proxy.torch.TensorPointer object at 0x0000025151B6A3D0>\n"
     ]
    }
   ],
   "source": [
    "print(data_ptr)\n",
    "print(target_ptr)"
   ]
  },
  {
   "cell_type": "markdown",
   "id": "a2a69c8c",
   "metadata": {},
   "source": [
    "# Part 3: Performing Logistic Regression on Iris Dataset"
   ]
  },
  {
   "cell_type": "code",
   "execution_count": 6,
   "id": "7139fac6",
   "metadata": {},
   "outputs": [
    {
     "name": "stdout",
     "output_type": "stream",
     "text": [
      "This is a dataset for the classification of flowers of 150 samples with 4 features: sepal length, sepal width, petal length, petal width all in cm\n"
     ]
    }
   ],
   "source": [
    "print(duet.store.pandas[\"Description\"][0])"
   ]
  },
  {
   "cell_type": "code",
   "execution_count": 7,
   "id": "55d803fa",
   "metadata": {},
   "outputs": [
    {
     "name": "stdout",
     "output_type": "stream",
     "text": [
      "Labels for flowers: Iris-setosa, Iris-versicolour, Iris-virginica\n"
     ]
    }
   ],
   "source": [
    "print(duet.store.pandas[\"Description\"][1])"
   ]
  },
  {
   "cell_type": "markdown",
   "id": "65fb3847",
   "metadata": {},
   "source": [
    "# Train Model"
   ]
  },
  {
   "cell_type": "code",
   "execution_count": 8,
   "id": "81449123",
   "metadata": {},
   "outputs": [],
   "source": [
    "import torch"
   ]
  },
  {
   "cell_type": "code",
   "execution_count": 14,
   "id": "c4095bbb",
   "metadata": {},
   "outputs": [],
   "source": [
    "in_dim = 4\n",
    "out_dim = 3\n",
    "n_sample = 150"
   ]
  },
  {
   "cell_type": "code",
   "execution_count": 15,
   "id": "9ed92819",
   "metadata": {},
   "outputs": [],
   "source": [
    "class SyNet(sy.Module):\n",
    "    def __init__(self, torch_ref):\n",
    "        super(SyNet, self).__init__(torch_ref=torch_ref)\n",
    "        self.layer1 = self.torch_ref.nn.Linear(in_dim, 20)\n",
    "        self.layer2 = self.torch_ref.nn.Linear(20, 30)\n",
    "        self.out = self.torch_ref.nn.Linear(30, out_dim)\n",
    "\n",
    "    def forward(self, x):\n",
    "        x = self.torch_ref.nn.functional.relu(self.layer1(x))\n",
    "        x = self.torch_ref.nn.functional.relu(self.layer2(x))\n",
    "        output = self.torch_ref.nn.functional.log_softmax(self.out(x), dim=1)\n",
    "        return output\n"
   ]
  },
  {
   "cell_type": "code",
   "execution_count": 18,
   "id": "201d8653",
   "metadata": {},
   "outputs": [],
   "source": [
    "local_model = SyNet(torch)"
   ]
  },
  {
   "cell_type": "code",
   "execution_count": 19,
   "id": "ebf8e7e5",
   "metadata": {},
   "outputs": [],
   "source": [
    "remote_model = local_model.send(duet)"
   ]
  },
  {
   "cell_type": "code",
   "execution_count": 20,
   "id": "fa98533c",
   "metadata": {},
   "outputs": [],
   "source": [
    "remote_torch = duet.torch"
   ]
  },
  {
   "cell_type": "code",
   "execution_count": 21,
   "id": "50c3fe8a",
   "metadata": {},
   "outputs": [
    {
     "name": "stdout",
     "output_type": "stream",
     "text": [
      "params: <syft.proxy.syft.lib.python.ListPointer object at 0x00000251089F47C0>\n",
      "optim: <syft.proxy.torch.optim.AdamPointer object at 0x0000025151AFE730>\n"
     ]
    }
   ],
   "source": [
    "params = remote_model.parameters()\n",
    "optim = remote_torch.optim.Adam(params = params, lr=0.01)\n",
    "print(\"params:\", params)\n",
    "print(\"optim:\", optim)"
   ]
  },
  {
   "cell_type": "code",
   "execution_count": 32,
   "id": "ab4e938e",
   "metadata": {},
   "outputs": [],
   "source": [
    "def train(iterations, model, torch_ref, optim, data_ptr, target_ptr):\n",
    "\n",
    "    losses = []\n",
    "\n",
    "    for i in range(iterations):\n",
    "\n",
    "        optim.zero_grad()\n",
    "\n",
    "        output = model(data_ptr)\n",
    "\n",
    "        # nll_loss = negative log-liklihood loss\n",
    "        loss = torch_ref.nn.functional.nll_loss(output, target_ptr.long())\n",
    "\n",
    "        loss_item = loss.item()\n",
    "\n",
    "        loss_value = loss_item.get(\n",
    "            reason=\"To evaluate training progress\", request_block=True, timeout_secs=5\n",
    "        )\n",
    "\n",
    "        if i % 10 == 0:\n",
    "            print(\"Epoch\", i, \"loss\", loss_value)\n",
    "\n",
    "        losses.append(loss_value)\n",
    "\n",
    "        loss.backward()\n",
    "\n",
    "        optim.step()\n",
    "\n",
    "    return losses"
   ]
  },
  {
   "cell_type": "code",
   "execution_count": 33,
   "id": "0be21cae",
   "metadata": {},
   "outputs": [
    {
     "name": "stdout",
     "output_type": "stream",
     "text": [
      "Epoch 0 loss 0.07272499799728394\n",
      "Epoch 10 loss 0.061898842453956604\n",
      "Epoch 20 loss 0.05713148042559624\n",
      "Epoch 30 loss 0.05443151295185089\n",
      "Epoch 40 loss 0.05265791714191437\n",
      "Epoch 50 loss 0.051336947828531265\n"
     ]
    }
   ],
   "source": [
    "iteration = 60\n",
    "losses = train(iteration, remote_model, remote_torch, optim, data_ptr, target_ptr)"
   ]
  },
  {
   "cell_type": "code",
   "execution_count": 34,
   "id": "4e542ea0",
   "metadata": {},
   "outputs": [
    {
     "data": {
      "text/plain": [
       "Text(0.5, 0, 'iteration')"
      ]
     },
     "execution_count": 34,
     "metadata": {},
     "output_type": "execute_result"
    },
    {
     "data": {
      "image/png": "[encoded data removed]",
      "text/plain": [
       "<Figure size 432x288 with 1 Axes>"
      ]
     },
     "metadata": {
      "needs_background": "light"
     },
     "output_type": "display_data"
    }
   ],
   "source": [
    "import matplotlib.pyplot as plt\n",
    "\n",
    "plt.plot(range(iteration), losses)\n",
    "plt.ylabel(\"Loss\")\n",
    "plt.xlabel(\"iteration\")"
   ]
  },
  {
   "cell_type": "markdown",
   "id": "e0304dfd",
   "metadata": {},
   "source": [
    "# Download model"
   ]
  },
  {
   "cell_type": "code",
   "execution_count": 35,
   "id": "b1ea0852",
   "metadata": {},
   "outputs": [],
   "source": [
    "def get_local_model(model):\n",
    "    if not model.is_local:\n",
    "        local_model = model.get(\n",
    "            request_block=True,\n",
    "            reason=\"To run test and inference locally\",\n",
    "            timeout_secs=5,\n",
    "        )\n",
    "    else:\n",
    "        local_model = model\n",
    "\n",
    "    return local_model\n",
    "\n",
    "\n",
    "local_model = get_local_model(remote_model)"
   ]
  },
  {
   "cell_type": "markdown",
   "id": "de9f9367",
   "metadata": {},
   "source": [
    "# Test on local data"
   ]
  },
  {
   "cell_type": "code",
   "execution_count": 36,
   "id": "433d27fd",
   "metadata": {},
   "outputs": [],
   "source": [
    "import torch\n",
    "import pandas as pd\n",
    "import numpy as np\n",
    "from sklearn.metrics import accuracy_score"
   ]
  },
  {
   "cell_type": "code",
   "execution_count": 37,
   "id": "12a5f9f4",
   "metadata": {},
   "outputs": [
    {
     "data": {
      "text/html": [
       "<div>\n",
       "<style scoped>\n",
       "    .dataframe tbody tr th:only-of-type {\n",
       "        vertical-align: middle;\n",
       "    }\n",
       "\n",
       "    .dataframe tbody tr th {\n",
       "        vertical-align: top;\n",
       "    }\n",
       "\n",
       "    .dataframe thead th {\n",
       "        text-align: right;\n",
       "    }\n",
       "</style>\n",
       "<table border=\"1\" class=\"dataframe\">\n",
       "  <thead>\n",
       "    <tr style=\"text-align: right;\">\n",
       "      <th></th>\n",
       "      <th>sepal length (cm)</th>\n",
       "      <th>sepal width (cm)</th>\n",
       "      <th>petal length (cm)</th>\n",
       "      <th>petal width (cm)</th>\n",
       "      <th>species</th>\n",
       "    </tr>\n",
       "  </thead>\n",
       "  <tbody>\n",
       "    <tr>\n",
       "      <th>0</th>\n",
       "      <td>5.8</td>\n",
       "      <td>4.0</td>\n",
       "      <td>1.2</td>\n",
       "      <td>0.2</td>\n",
       "      <td>0</td>\n",
       "    </tr>\n",
       "    <tr>\n",
       "      <th>1</th>\n",
       "      <td>5.7</td>\n",
       "      <td>4.4</td>\n",
       "      <td>1.5</td>\n",
       "      <td>0.4</td>\n",
       "      <td>0</td>\n",
       "    </tr>\n",
       "    <tr>\n",
       "      <th>2</th>\n",
       "      <td>6.0</td>\n",
       "      <td>2.7</td>\n",
       "      <td>5.1</td>\n",
       "      <td>1.6</td>\n",
       "      <td>1</td>\n",
       "    </tr>\n",
       "    <tr>\n",
       "      <th>3</th>\n",
       "      <td>6.0</td>\n",
       "      <td>2.9</td>\n",
       "      <td>4.5</td>\n",
       "      <td>1.5</td>\n",
       "      <td>1</td>\n",
       "    </tr>\n",
       "    <tr>\n",
       "      <th>4</th>\n",
       "      <td>5.8</td>\n",
       "      <td>2.7</td>\n",
       "      <td>5.1</td>\n",
       "      <td>1.9</td>\n",
       "      <td>2</td>\n",
       "    </tr>\n",
       "  </tbody>\n",
       "</table>\n",
       "</div>"
      ],
      "text/plain": [
       "   sepal length (cm)  sepal width (cm)  petal length (cm)  petal width (cm)  \\\n",
       "0                5.8               4.0                1.2               0.2   \n",
       "1                5.7               4.4                1.5               0.4   \n",
       "2                6.0               2.7                5.1               1.6   \n",
       "3                6.0               2.9                4.5               1.5   \n",
       "4                5.8               2.7                5.1               1.9   \n",
       "\n",
       "   species  \n",
       "0        0  \n",
       "1        0  \n",
       "2        1  \n",
       "3        1  \n",
       "4        2  "
      ]
     },
     "execution_count": 37,
     "metadata": {},
     "output_type": "execute_result"
    }
   ],
   "source": [
    "iris_test = pd.read_csv(\"./data/iris-test.csv\")\n",
    "iris_test.head()"
   ]
  },
  {
   "cell_type": "code",
   "execution_count": 38,
   "id": "b5db4076",
   "metadata": {},
   "outputs": [],
   "source": [
    "X_test = iris_test.loc[:, iris_test.columns != \"species\"]\n",
    "y_test = iris_test[\"species\"]"
   ]
  },
  {
   "cell_type": "code",
   "execution_count": 39,
   "id": "998cfda9",
   "metadata": {},
   "outputs": [],
   "source": [
    "X_test = torch.FloatTensor(np.array(X_test))\n",
    "y_test = torch.LongTensor(np.array(y_test))"
   ]
  },
  {
   "cell_type": "code",
   "execution_count": 42,
   "id": "16e2a0f2",
   "metadata": {},
   "outputs": [
    {
     "name": "stdout",
     "output_type": "stream",
     "text": [
      "Prediction: 0 Ground Truth: 0\n",
      "Prediction: 0 Ground Truth: 0\n",
      "Prediction: 2 Ground Truth: 1\n",
      "Prediction: 1 Ground Truth: 1\n",
      "Prediction: 2 Ground Truth: 2\n",
      "Prediction: 0 Ground Truth: 0\n",
      "Prediction: 1 Ground Truth: 1\n",
      "Prediction: 0 Ground Truth: 0\n",
      "Prediction: 0 Ground Truth: 0\n",
      "Prediction: 2 Ground Truth: 2\n",
      "Prediction: 2 Ground Truth: 2\n",
      "Prediction: 2 Ground Truth: 2\n",
      "Prediction: 2 Ground Truth: 2\n",
      "Prediction: 2 Ground Truth: 2\n",
      "Prediction: 2 Ground Truth: 2\n",
      "Prediction: 1 Ground Truth: 1\n",
      "Prediction: 0 Ground Truth: 0\n",
      "Prediction: 2 Ground Truth: 1\n",
      "Prediction: 0 Ground Truth: 0\n",
      "Prediction: 0 Ground Truth: 0\n",
      "Prediction: 2 Ground Truth: 2\n",
      "Prediction: 2 Ground Truth: 2\n",
      "Prediction: 0 Ground Truth: 0\n",
      "Prediction: 2 Ground Truth: 2\n",
      "Prediction: 0 Ground Truth: 0\n",
      "Prediction: 0 Ground Truth: 0\n",
      "Prediction: 0 Ground Truth: 0\n",
      "Prediction: 0 Ground Truth: 0\n",
      "Prediction: 2 Ground Truth: 2\n",
      "Prediction: 2 Ground Truth: 2\n"
     ]
    }
   ],
   "source": [
    "preds = []\n",
    "with torch.no_grad():\n",
    "    for i in range(len(X_test)):\n",
    "        sample = X_test[i]\n",
    "        y_hat = local_model(sample.unsqueeze(0))\n",
    "        pred = y_hat.argmax().item()\n",
    "        print(f\"Prediction: {pred} Ground Truth: {y_test[i]}\")\n",
    "        preds.append(pred)"
   ]
  },
  {
   "cell_type": "code",
   "execution_count": 43,
   "id": "5094f06b",
   "metadata": {},
   "outputs": [
    {
     "name": "stdout",
     "output_type": "stream",
     "text": [
      "Overall test accuracy 93.33333333333333\n"
     ]
    }
   ],
   "source": [
    "acc = accuracy_score(y_test, preds)\n",
    "print(\"Overall test accuracy\", acc * 100)"
   ]
  },
  {
   "cell_type": "code",
   "execution_count": null,
   "id": "62c526b6",
   "metadata": {},
   "outputs": [],
   "source": []
  }
 ],
 "metadata": {
  "kernelspec": {
   "display_name": "Python 3 (ipykernel)",
   "language": "python",
   "name": "python3"
  },
  "language_info": {
   "codemirror_mode": {
    "name": "ipython",
    "version": 3
   },
   "file_extension": ".py",
   "mimetype": "text/x-python",
   "name": "python",
   "nbconvert_exporter": "python",
   "pygments_lexer": "ipython3",
   "version": "3.9.6"
  }
 },
 "nbformat": 4,
 "nbformat_minor": 5
}
